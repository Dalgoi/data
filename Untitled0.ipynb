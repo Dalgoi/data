{
  "nbformat": 4,
  "nbformat_minor": 0,
  "metadata": {
    "colab": {
      "provenance": [],
      "authorship_tag": "ABX9TyNPOmIaUDJtiLu/fv46AL1S",
      "include_colab_link": true
    },
    "kernelspec": {
      "name": "python3",
      "display_name": "Python 3"
    },
    "language_info": {
      "name": "python"
    }
  },
  "cells": [
    {
      "cell_type": "markdown",
      "metadata": {
        "id": "view-in-github",
        "colab_type": "text"
      },
      "source": [
        "<a href=\"https://colab.research.google.com/github/Dalgoi/data/blob/main/Untitled0.ipynb\" target=\"_parent\"><img src=\"https://colab.research.google.com/assets/colab-badge.svg\" alt=\"Open In Colab\"/></a>"
      ]
    },
    {
      "cell_type": "code",
      "execution_count": null,
      "metadata": {
        "colab": {
          "base_uri": "https://localhost:8080/"
        },
        "id": "uitOgZFCEPvp",
        "outputId": "418c6b3f-06fe-4f55-b0a5-bc84c7bd55a0"
      },
      "outputs": [
        {
          "output_type": "stream",
          "name": "stdout",
          "text": [
            "27\n",
            "***************************\n",
            "* ** ** ** ** ** ** ** ** *\n",
            "***************************\n",
            "***   ******   ******   ***\n",
            "* *   * ** *   * ** *   * *\n",
            "***   ******   ******   ***\n",
            "***************************\n",
            "* ** ** ** ** ** ** ** ** *\n",
            "***************************\n",
            "*********         *********\n",
            "* ** ** *         * ** ** *\n",
            "*********         *********\n",
            "***   ***         ***   ***\n",
            "* *   * *         * *   * *\n",
            "***   ***         ***   ***\n",
            "*********         *********\n",
            "* ** ** *         * ** ** *\n",
            "*********         *********\n",
            "***************************\n",
            "* ** ** ** ** ** ** ** ** *\n",
            "***************************\n",
            "***   ******   ******   ***\n",
            "* *   * ** *   * ** *   * *\n",
            "***   ******   ******   ***\n",
            "***************************\n",
            "* ** ** ** ** ** ** ** ** *\n",
            "***************************\n"
          ]
        }
      ],
      "source": [
        "def draw_star(n):\n",
        "  if n==1:\n",
        "    return ['*']\n",
        "\n",
        "  stars=draw_star(n//3)\n",
        "  List=[]\n",
        "\n",
        "  for star in stars:\n",
        "    List.append(star*3)\n",
        "  for star in stars:\n",
        "    List.append(star+' '*(n//3)+star)\n",
        "  for star in stars:\n",
        "    List.append(star*3)\n",
        "\n",
        "  return List\n",
        "\n",
        "N=int(input())\n",
        "\n",
        "print('\\n'.join(draw_star(N)))"
      ]
    },
    {
      "cell_type": "code",
      "source": [
        "print('\\nDictionary')\n",
        "d= {1:10, 2:20, 3:30, 10:40}\n",
        "for i in d:\n",
        "  print(i, ':', d[i], end= '\\n')\n",
        "\n",
        "for i in d:\n",
        "  print(d[i], end= ' ')"
      ],
      "metadata": {
        "colab": {
          "base_uri": "https://localhost:8080/"
        },
        "id": "8M6sNiLkjq04",
        "outputId": "5e0ac7f2-129f-47ca-9796-45f797a7d665"
      },
      "execution_count": 8,
      "outputs": [
        {
          "output_type": "stream",
          "name": "stdout",
          "text": [
            "\n",
            "Dictionary\n",
            "1 : 10\n",
            "2 : 20\n",
            "3 : 30\n",
            "10 : 40\n",
            "10 20 30 40 "
          ]
        }
      ]
    },
    {
      "cell_type": "code",
      "source": [
        "#import sys\n",
        "#sys.setrecursionlimit(10**9)\n",
        "nums = []\n",
        "while True:                            \n",
        "    try:\n",
        "       num = int(input())\n",
        "       nums.append(num)\n",
        "    except:\n",
        "        break\n",
        "        \n",
        "def postorder(s, e):\n",
        "    if s > e:\n",
        "        return\n",
        "    mid = e + 1                         # 오른쪽 노드가 없을 경우\n",
        "    \n",
        "    for i in range(s+1, e+1):\n",
        "        if nums[s] < nums[i]:\n",
        "            mid = i\n",
        "            break\n",
        "\n",
        "    postorder(s+1, mid-1)               # 왼쪽 확인\n",
        "    postorder(mid, e)                   # 오른쪽 확인\n",
        "    print(nums[s],'\\n')\n",
        "    \n",
        "postorder(0, len(nums)-1)"
      ],
      "metadata": {
        "id": "ju1121kwjY49"
      },
      "execution_count": null,
      "outputs": []
    }
  ]
}